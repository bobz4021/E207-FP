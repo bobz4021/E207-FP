{
 "cells": [
  {
   "cell_type": "markdown",
   "id": "e07de4c7",
   "metadata": {},
   "source": [
    "This notebook modifies the annot files from the original dataset by changing the beat labels to contain measure information.\n",
    "\n",
    "e.g. 1,2,3,1,2,3 --> 0-1, 0-2, 0-3, 1-1, 1-2, 1-3"
   ]
  },
  {
   "cell_type": "code",
   "execution_count": 1,
   "id": "dd78d100",
   "metadata": {},
   "outputs": [],
   "source": [
    "import os\n",
    "import glob\n",
    "from pathlib import Path\n",
    "import pandas as pd\n",
    "import numpy as np"
   ]
  },
  {
   "cell_type": "code",
   "execution_count": 2,
   "id": "f65aac7d",
   "metadata": {},
   "outputs": [],
   "source": [
    "import warnings\n",
    "warnings.filterwarnings('ignore')"
   ]
  },
  {
   "cell_type": "code",
   "execution_count": 3,
   "id": "ff904388",
   "metadata": {},
   "outputs": [],
   "source": [
    "# (assert) check all annot files have same number of rows\n",
    "# (assert) start on same beat\n",
    "# (assert) increasing in triples"
   ]
  },
  {
   "cell_type": "code",
   "execution_count": 4,
   "id": "9232b966",
   "metadata": {},
   "outputs": [],
   "source": [
    "ANNOT_PATH = Path('../ttmp/Chopin_Mazurkas/annotations_beat/')\n",
    "folders = [folder for folder in os.listdir(ANNOT_PATH) if len(folder) == 15]"
   ]
  },
  {
   "cell_type": "code",
   "execution_count": 5,
   "id": "95276cae",
   "metadata": {},
   "outputs": [],
   "source": [
    "def assert_labels(folder_path):\n",
    "    dfs = []\n",
    "    files = [file for file in os.listdir(folder_path) if file[0]!='.']\n",
    "    for file in files:\n",
    "        if file != 'Chopin_Op068No3_Koczalski-1948_pid9140-05.beat':\n",
    "            dfs.append(pd.read_csv(folder_path/file, header=None, sep='\\s+', skiprows=3)[2])\n",
    "    \n",
    "    dfs_np = np.array(dfs) # if np array without error, then all dfs have the same shape (annots same length)\n",
    "    assert len(set(dfs_np[:,0].astype('int'))) == 1 # they all start on the same beat\n",
    "    \n",
    "    for df in dfs_np:  # the beats are increasing and in order\n",
    "        curr = str(df[0])\n",
    "        curr = int(curr[0]) if curr[-1] == 'x' else int(curr)\n",
    "        for i in range(1, len(df)):\n",
    "            new = str(df[i])\n",
    "            new = int(new[0]) if new[-1] == 'x' else int(new)\n",
    "            assert (new == curr + 1) or (new == curr - 2)\n",
    "            curr = new "
   ]
  },
  {
   "cell_type": "code",
   "execution_count": 6,
   "id": "97730372",
   "metadata": {},
   "outputs": [],
   "source": [
    "def get_preamble(file_path):\n",
    "    with open(file_path, 'r') as f:\n",
    "        preamble = [f.readline(), \n",
    "                    f.readline(),\n",
    "                    f.readline()]\n",
    "    return preamble"
   ]
  },
  {
   "cell_type": "code",
   "execution_count": 7,
   "id": "8b2cae38",
   "metadata": {},
   "outputs": [],
   "source": [
    "def modify_annot(file_path, out_path):\n",
    "    \n",
    "    preamble = get_preamble(file_path)\n",
    "\n",
    "    df = pd.read_csv(file_path, header=None, sep='\\s+', skiprows=3)\n",
    "\n",
    "    if str(df[2][0])[0] == '2':\n",
    "        df[2][0] = '0-' + str(df[2][0])\n",
    "        df[2][1] = '0-' + str(df[2][1])\n",
    "        measure = 1\n",
    "        start = 2\n",
    "    elif str(df[2][0])[0] == '3':\n",
    "        df[2][0] = '0-' + str(df[2][0])\n",
    "        measure = 1\n",
    "        start = 1\n",
    "    else:\n",
    "        measure = 0\n",
    "        start = 0\n",
    "\n",
    "    for i in range(start, (len(df[2]) + 1), 3):\n",
    "        try:\n",
    "            df[2][i] = f'{measure}-' + str(df[2][i])\n",
    "            df[2][i+1] = f'{measure}-' + str(df[2][i+1])\n",
    "            df[2][i+2] = f'{measure}-' + str(df[2][i+2])\n",
    "            measure += 1\n",
    "        except:\n",
    "            # in case there is no index i+1 or i+2\n",
    "            pass\n",
    "        \n",
    "    if df[1][len(df[1])-1] == 0:\n",
    "        df = df[:len(df[1])-1]\n",
    "\n",
    "    annots = df.to_csv(None, header=False, index=False, sep='\\t')\n",
    "    \n",
    "    with open(out_path, 'w') as f:\n",
    "        f.writelines(preamble)\n",
    "        f.writelines(annots)"
   ]
  },
  {
   "cell_type": "code",
   "execution_count": 8,
   "id": "85311e6b",
   "metadata": {
    "scrolled": true
   },
   "outputs": [
    {
     "name": "stdout",
     "output_type": "stream",
     "text": [
      "../ttmp/Chopin_Mazurkas_Modified/annotations_beat/Chopin_Op063No3 created\n",
      "../ttmp/Chopin_Mazurkas_Modified/annotations_beat/Chopin_Op068No3 created\n",
      "../ttmp/Chopin_Mazurkas_Modified/annotations_beat/Chopin_Op017No4 created\n",
      "../ttmp/Chopin_Mazurkas_Modified/annotations_beat/Chopin_Op024No2 created\n",
      "../ttmp/Chopin_Mazurkas_Modified/annotations_beat/Chopin_Op030No2 created\n"
     ]
    }
   ],
   "source": [
    "for folder in folders:\n",
    "    path = ANNOT_PATH / folder\n",
    "    folder_path_lst = os.path.abspath(path).split('/')[-2:]\n",
    "    folder_path = f'../ttmp/Chopin_Mazurkas_Modified/{folder_path_lst[0]}/{folder_path_lst[1]}'\n",
    "    os.makedirs(folder_path, exist_ok=True)\n",
    "    assert_labels(path)\n",
    "    print(folder_path + ' created')\n",
    "    for file in path.glob('*'):\n",
    "        file_name = os.path.abspath(file).split('/')[-1]\n",
    "        if file_name[0] != '.':\n",
    "            modify_annot(file, f'{folder_path}/{file_name}')"
   ]
  },
  {
   "cell_type": "code",
   "execution_count": 9,
   "id": "b3362592",
   "metadata": {},
   "outputs": [],
   "source": [
    "! cp -r ../ttmp/Chopin_Mazurkas/wav_22050_mono ../ttmp/Chopin_Mazurkas_Modified/"
   ]
  },
  {
   "cell_type": "code",
   "execution_count": null,
   "id": "eef02cdb",
   "metadata": {},
   "outputs": [],
   "source": []
  }
 ],
 "metadata": {
  "kernelspec": {
   "display_name": "Python 3 (ipykernel)",
   "language": "python",
   "name": "python3"
  },
  "language_info": {
   "codemirror_mode": {
    "name": "ipython",
    "version": 3
   },
   "file_extension": ".py",
   "mimetype": "text/x-python",
   "name": "python",
   "nbconvert_exporter": "python",
   "pygments_lexer": "ipython3",
   "version": "3.7.13"
  }
 },
 "nbformat": 4,
 "nbformat_minor": 5
}
