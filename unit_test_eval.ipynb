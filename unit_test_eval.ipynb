{
 "cells": [
  {
   "cell_type": "code",
   "execution_count": null,
   "id": "4c549395",
   "metadata": {},
   "outputs": [],
   "source": [
    "import numpy as np\n",
    "import matplotlib.pyplot as plt\n",
    "import seaborn as sns\n",
    "from pathlib import Path\n",
    "import glob\n",
    "import os.path\n",
    "import pandas as pd\n",
    "import pickle\n",
    "from plotnine import *\n",
    "from pandas.api.types import CategoricalDtype"
   ]
  },
  {
   "cell_type": "code",
   "execution_count": null,
   "id": "77b2fa4f",
   "metadata": {},
   "outputs": [],
   "source": [
    "unit_tests_path = Path('../ttmp/unit_tests')\n",
    "unit_tests_path.mkdir(parents=True, exist_ok=True)"
   ]
  },
  {
   "cell_type": "code",
   "execution_count": null,
   "id": "d531c988",
   "metadata": {},
   "outputs": [],
   "source": [
    "def save_annot_files(benchmark, folder_name, annot1_df, annot2_df):\n",
    "    (unit_tests_path / benchmark).mkdir(exist_ok=True)\n",
    "    annot1_path = unit_tests_path / benchmark / f'{folder_name}/{folder_name}_annot1.beat'\n",
    "    annot1_path.parent.mkdir(parents=True, exist_ok=True)\n",
    "    with open(annot1_path, 'w') as f:\n",
    "        f.write('%\\n')\n",
    "        f.write('%\\n')\n",
    "        f.write('% start_time[sec]\tend_time[sec]\tlabel\\n')\n",
    "        annots = annot1_df.to_csv(None, header=False, index=False, sep='\\t')\n",
    "        f.writelines(annots)\n",
    "        \n",
    "    annot2_path = unit_tests_path / benchmark / f'{folder_name}/{folder_name}_annot2.beat'\n",
    "    annot2_path.parent.mkdir(exist_ok=True)\n",
    "    with open(annot2_path, 'w') as f:\n",
    "        f.write('%\\n')\n",
    "        f.write('%\\n')\n",
    "        f.write('% start_time[sec]\tend_time[sec]\tlabel\\n')\n",
    "        annots = annot2_df.to_csv(None, header=False, index=False, sep='\\t')\n",
    "        f.writelines(annots)"
   ]
  },
  {
   "cell_type": "code",
   "execution_count": null,
   "id": "47885c95",
   "metadata": {},
   "outputs": [],
   "source": [
    "def save_wp(benchmark, folder_name, end_second, hop_sec = 512/22050):\n",
    "    path = np.arange(0, (end_second / hop_sec)+1)\n",
    "    wp = np.array([path] * 2)\n",
    "    with open(unit_tests_path / benchmark / folder_name / f'{folder_name}_annot1__{folder_name}_annot2.pkl', 'wb') as f:\n",
    "        pickle.dump(wp, f)"
   ]
  },
  {
   "cell_type": "markdown",
   "id": "94e4f455",
   "metadata": {},
   "source": [
    "## Make Files"
   ]
  },
  {
   "cell_type": "markdown",
   "id": "d1ec47c1",
   "metadata": {},
   "source": [
    "### Exact Match"
   ]
  },
  {
   "cell_type": "markdown",
   "id": "8eb88e82",
   "metadata": {},
   "source": [
    "**Matching**"
   ]
  },
  {
   "cell_type": "code",
   "execution_count": null,
   "id": "49591b4e",
   "metadata": {},
   "outputs": [],
   "source": [
    "# Make two identical annot files with start,end seconds [1,2], [2,3], ..., [100,101]\n",
    "measures = []\n",
    "for i in range(100//3+1):\n",
    "    measures.append(str(i)+'-1')\n",
    "    measures.append(str(i)+'-2')\n",
    "    measures.append(str(i)+'-3')\n",
    "annot1_df = pd.DataFrame(np.array([np.arange(1,101)] + [np.arange(2,102)] + [np.array(measures[:100])]).T)\n",
    "annot2_df = annot1_df"
   ]
  },
  {
   "cell_type": "code",
   "execution_count": null,
   "id": "c0ecd3ef",
   "metadata": {},
   "outputs": [],
   "source": [
    "save_annot_files('matching', 'exact_match', annot1_df, annot2_df)"
   ]
  },
  {
   "cell_type": "code",
   "execution_count": null,
   "id": "51561e31",
   "metadata": {},
   "outputs": [],
   "source": [
    "save_wp('matching', 'exact_match', 100)"
   ]
  },
  {
   "cell_type": "markdown",
   "id": "efa2967b",
   "metadata": {},
   "source": [
    "**Subseq10**"
   ]
  },
  {
   "cell_type": "code",
   "execution_count": null,
   "id": "6fba892c",
   "metadata": {},
   "outputs": [],
   "source": [
    "measures = []\n",
    "for i in range(100//3+1):\n",
    "    measures.append(str(i)+'-1')\n",
    "    measures.append(str(i)+'-2')\n",
    "    measures.append(str(i)+'-3')\n",
    "annot1_df = pd.DataFrame(np.array([np.arange(1,101)] + [np.arange(2,102)] + [np.array(measures[:100])]).T)\n",
    "annot2_df = annot1_df[10:20]"
   ]
  },
  {
   "cell_type": "code",
   "execution_count": null,
   "id": "458224eb",
   "metadata": {},
   "outputs": [],
   "source": [
    "save_annot_files('subseq10', 'exact_match', annot1_df, annot2_df)"
   ]
  },
  {
   "cell_type": "code",
   "execution_count": null,
   "id": "fb244c13",
   "metadata": {},
   "outputs": [],
   "source": [
    "save_wp('subseq10', 'exact_match', 100)"
   ]
  },
  {
   "cell_type": "code",
   "execution_count": null,
   "id": "317a63ef",
   "metadata": {},
   "outputs": [],
   "source": [
    "# No Path?"
   ]
  },
  {
   "cell_type": "markdown",
   "id": "a5cfbe47",
   "metadata": {},
   "source": [
    "**PartialOverlap**"
   ]
  },
  {
   "cell_type": "code",
   "execution_count": null,
   "id": "d67b79e7",
   "metadata": {},
   "outputs": [],
   "source": [
    "measures = []\n",
    "for i in range(100//3+1):\n",
    "    measures.append(str(i)+'-1')\n",
    "    measures.append(str(i)+'-2')\n",
    "    measures.append(str(i)+'-3')\n",
    "annot_df = pd.DataFrame(np.array([np.arange(1,101)] + [np.arange(2,102)] + [np.array(measures[:100])]).T)\n",
    "annot1_df = annot_df[:60]\n",
    "annot2_df = pd.DataFrame(np.array([np.arange(0,101-41)] + [np.arange(1,102-41)] + [np.array(annot_df[2][-60:])]).T)"
   ]
  },
  {
   "cell_type": "code",
   "execution_count": null,
   "id": "880a73f0",
   "metadata": {},
   "outputs": [],
   "source": [
    "save_annot_files('partialOverlap', 'exact_match', annot1_df, annot2_df)"
   ]
  },
  {
   "cell_type": "code",
   "execution_count": null,
   "id": "5cb7521b",
   "metadata": {},
   "outputs": [],
   "source": [
    "save_wp('partialOverlap', 'exact_match', 100)"
   ]
  },
  {
   "cell_type": "markdown",
   "id": "db633cae",
   "metadata": {},
   "source": [
    "**Pre5**"
   ]
  },
  {
   "cell_type": "code",
   "execution_count": null,
   "id": "449fafc8",
   "metadata": {},
   "outputs": [],
   "source": [
    "measures = []\n",
    "for i in range(100//3+1):\n",
    "    measures.append(str(i)+'-1')\n",
    "    measures.append(str(i)+'-2')\n",
    "    measures.append(str(i)+'-3')\n",
    "annot1_df = pd.DataFrame(np.array([np.arange(1,101)] + [np.arange(2,102)] + [np.array(measures[:100])]).T)\n",
    "annot2_df = pd.DataFrame(np.array([np.arange(1+5,101+5)] + [np.arange(2+5,102+5)] + [np.array(measures[:100])]).T)"
   ]
  },
  {
   "cell_type": "code",
   "execution_count": null,
   "id": "5c4e0012",
   "metadata": {},
   "outputs": [],
   "source": [
    "save_annot_files('pre5', 'exact_match', annot1_df, annot2_df)"
   ]
  },
  {
   "cell_type": "code",
   "execution_count": null,
   "id": "dcd540c2",
   "metadata": {},
   "outputs": [],
   "source": [
    "save_wp('pre5', 'exact_match', 100)"
   ]
  },
  {
   "cell_type": "markdown",
   "id": "c5f1944e",
   "metadata": {},
   "source": [
    "**Post5**"
   ]
  },
  {
   "cell_type": "code",
   "execution_count": null,
   "id": "5fb86b45",
   "metadata": {},
   "outputs": [],
   "source": [
    "measures = []\n",
    "for i in range(100//3+1):\n",
    "    measures.append(str(i)+'-1')\n",
    "    measures.append(str(i)+'-2')\n",
    "    measures.append(str(i)+'-3')\n",
    "annot1_df = pd.DataFrame(np.array([np.arange(1,101)] + [np.arange(2,102)] + [np.array(measures[:100])]).T)\n",
    "annot2_df = annot1_df"
   ]
  },
  {
   "cell_type": "code",
   "execution_count": null,
   "id": "1cf42c47",
   "metadata": {},
   "outputs": [],
   "source": [
    "save_annot_files('post5', 'exact_match', annot1_df, annot2_df)"
   ]
  },
  {
   "cell_type": "code",
   "execution_count": null,
   "id": "c49be348",
   "metadata": {},
   "outputs": [],
   "source": [
    "save_wp('post5', 'exact_match', 100)"
   ]
  },
  {
   "cell_type": "markdown",
   "id": "719e1c01",
   "metadata": {},
   "source": [
    "**PrePost5**"
   ]
  },
  {
   "cell_type": "code",
   "execution_count": null,
   "id": "e1eb47c7",
   "metadata": {},
   "outputs": [],
   "source": [
    "measures = []\n",
    "for i in range(100//3+1):\n",
    "    measures.append(str(i)+'-1')\n",
    "    measures.append(str(i)+'-2')\n",
    "    measures.append(str(i)+'-3')\n",
    "annot1_df = pd.DataFrame(np.array([np.arange(1,101)] + [np.arange(2,102)] + [np.array(measures[:100])]).T)\n",
    "annot2_df = pd.DataFrame(np.array([np.arange(1+5,101+5)] + [np.arange(2+5,102+5)] + [np.array(measures[:100])]).T)"
   ]
  },
  {
   "cell_type": "code",
   "execution_count": null,
   "id": "ae2ef174",
   "metadata": {},
   "outputs": [],
   "source": [
    "save_annot_files('prepost5', 'exact_match', annot1_df, annot2_df)"
   ]
  },
  {
   "cell_type": "code",
   "execution_count": null,
   "id": "5f8026af",
   "metadata": {},
   "outputs": [],
   "source": [
    "save_wp('prepost5', 'exact_match', 100)"
   ]
  },
  {
   "cell_type": "markdown",
   "id": "785565c4",
   "metadata": {},
   "source": [
    "### Shifted by 2 sec"
   ]
  },
  {
   "cell_type": "markdown",
   "id": "c9190fa7",
   "metadata": {},
   "source": [
    "**Matching**"
   ]
  },
  {
   "cell_type": "code",
   "execution_count": null,
   "id": "06321972",
   "metadata": {},
   "outputs": [],
   "source": [
    "# Make two annot files where one's start seconds is shifted by 2\n",
    "measures = []\n",
    "for i in range(100//3+1):\n",
    "    measures.append(str(i)+'-1')\n",
    "    measures.append(str(i)+'-2')\n",
    "    measures.append(str(i)+'-3')\n",
    "annot1_df = pd.DataFrame(np.array([np.arange(1,101)] + [np.arange(2,102)] + [np.array(measures[:100])]).T)\n",
    "annot2_df = pd.DataFrame(np.array([np.arange(3,103)] + [np.arange(4,104)] + [np.array(measures[:100])]).T)"
   ]
  },
  {
   "cell_type": "code",
   "execution_count": null,
   "id": "7ee8d852",
   "metadata": {},
   "outputs": [],
   "source": [
    "save_annot_files('matching', 'shifted_2', annot1_df, annot2_df)"
   ]
  },
  {
   "cell_type": "code",
   "execution_count": null,
   "id": "08617d29",
   "metadata": {},
   "outputs": [],
   "source": [
    "save_wp('matching', 'shifted_2',100)"
   ]
  },
  {
   "cell_type": "markdown",
   "id": "1f71060b",
   "metadata": {},
   "source": [
    "**Subseq10**"
   ]
  },
  {
   "cell_type": "code",
   "execution_count": null,
   "id": "38db049a",
   "metadata": {},
   "outputs": [],
   "source": [
    "measures = []\n",
    "for i in range(100//3+1):\n",
    "    measures.append(str(i)+'-1')\n",
    "    measures.append(str(i)+'-2')\n",
    "    measures.append(str(i)+'-3')\n",
    "annot1_df = pd.DataFrame(np.array([np.arange(1,101)] + [np.arange(2,102)] + [np.array(measures[:100])]).T)\n",
    "annot2_df = pd.DataFrame(np.array([np.arange(3,103)] + [np.arange(4,104)] + [np.array(measures[:100])]).T)\n",
    "annot2_df = annot2_df[10:20]"
   ]
  },
  {
   "cell_type": "code",
   "execution_count": null,
   "id": "8a56ca64",
   "metadata": {},
   "outputs": [],
   "source": [
    "save_annot_files('subseq10', 'shifted_2', annot1_df, annot2_df)"
   ]
  },
  {
   "cell_type": "code",
   "execution_count": null,
   "id": "bed14cc4",
   "metadata": {},
   "outputs": [],
   "source": [
    "save_wp('subseq10', 'shifted_2',100)"
   ]
  },
  {
   "cell_type": "code",
   "execution_count": null,
   "id": "15bbe71e",
   "metadata": {},
   "outputs": [],
   "source": [
    "# No Path?"
   ]
  },
  {
   "cell_type": "markdown",
   "id": "1d31a07a",
   "metadata": {},
   "source": [
    "**PartialOverlap**"
   ]
  },
  {
   "cell_type": "code",
   "execution_count": null,
   "id": "2a48864a",
   "metadata": {},
   "outputs": [],
   "source": [
    "measures = []\n",
    "for i in range(100//3+1):\n",
    "    measures.append(str(i)+'-1')\n",
    "    measures.append(str(i)+'-2')\n",
    "    measures.append(str(i)+'-3')\n",
    "annot_df = pd.DataFrame(np.array([np.arange(1,101)] + [np.arange(2,102)] + [np.array(measures[:100])]).T)\n",
    "annot1_df = annot_df[:60]\n",
    "annot2_df = pd.DataFrame(np.array([np.arange(2,101-41+2)] + [np.arange(3,102-41+2)] + [np.array(annot_df[2][-60:])]).T)"
   ]
  },
  {
   "cell_type": "code",
   "execution_count": null,
   "id": "2ff926f9",
   "metadata": {},
   "outputs": [],
   "source": [
    "save_annot_files('partialOverlap', 'shifted_2', annot1_df, annot2_df)"
   ]
  },
  {
   "cell_type": "code",
   "execution_count": null,
   "id": "738b35eb",
   "metadata": {},
   "outputs": [],
   "source": [
    "save_wp('partialOverlap', 'shifted_2',100)"
   ]
  },
  {
   "cell_type": "markdown",
   "id": "a9527afe",
   "metadata": {},
   "source": [
    "**Pre5**"
   ]
  },
  {
   "cell_type": "code",
   "execution_count": null,
   "id": "ba580231",
   "metadata": {},
   "outputs": [],
   "source": [
    "measures = []\n",
    "for i in range(100//3+1):\n",
    "    measures.append(str(i)+'-1')\n",
    "    measures.append(str(i)+'-2')\n",
    "    measures.append(str(i)+'-3')\n",
    "annot1_df = pd.DataFrame(np.array([np.arange(1,101)] + [np.arange(2,102)] + [np.array(measures[:100])]).T)\n",
    "annot2_df = pd.DataFrame(np.array([np.arange(3+5,103+5)] + [np.arange(4+5,104+5)] + [np.array(measures[:100])]).T)"
   ]
  },
  {
   "cell_type": "code",
   "execution_count": null,
   "id": "8b0341a2",
   "metadata": {},
   "outputs": [],
   "source": [
    "save_annot_files('pre5', 'shifted_2', annot1_df, annot2_df)"
   ]
  },
  {
   "cell_type": "code",
   "execution_count": null,
   "id": "6f7c0d8e",
   "metadata": {},
   "outputs": [],
   "source": [
    "save_wp('pre5', 'shifted_2',100)"
   ]
  },
  {
   "cell_type": "markdown",
   "id": "49f7fe31",
   "metadata": {},
   "source": [
    "**Post5**"
   ]
  },
  {
   "cell_type": "code",
   "execution_count": null,
   "id": "6a6cf8b0",
   "metadata": {},
   "outputs": [],
   "source": [
    "measures = []\n",
    "for i in range(100//3+1):\n",
    "    measures.append(str(i)+'-1')\n",
    "    measures.append(str(i)+'-2')\n",
    "    measures.append(str(i)+'-3')\n",
    "annot1_df = pd.DataFrame(np.array([np.arange(1,101)] + [np.arange(2,102)] + [np.array(measures[:100])]).T)\n",
    "annot2_df = pd.DataFrame(np.array([np.arange(3,103)] + [np.arange(4,104)] + [np.array(measures[:100])]).T)"
   ]
  },
  {
   "cell_type": "code",
   "execution_count": null,
   "id": "8c7c1223",
   "metadata": {},
   "outputs": [],
   "source": [
    "save_annot_files('post5', 'shifted_2', annot1_df, annot2_df)"
   ]
  },
  {
   "cell_type": "code",
   "execution_count": null,
   "id": "bfc663f6",
   "metadata": {},
   "outputs": [],
   "source": [
    "save_wp('post5', 'shifted_2',100)"
   ]
  },
  {
   "cell_type": "markdown",
   "id": "26f0618f",
   "metadata": {},
   "source": [
    "**PrePost5**"
   ]
  },
  {
   "cell_type": "code",
   "execution_count": null,
   "id": "74c5d67f",
   "metadata": {},
   "outputs": [],
   "source": [
    "measures = []\n",
    "for i in range(100//3+1):\n",
    "    measures.append(str(i)+'-1')\n",
    "    measures.append(str(i)+'-2')\n",
    "    measures.append(str(i)+'-3')\n",
    "annot1_df = pd.DataFrame(np.array([np.arange(1,101)] + [np.arange(2,102)] + [np.array(measures[:100])]).T)\n",
    "annot2_df = pd.DataFrame(np.array([np.arange(3+5,103+5)] + [np.arange(4+5,104+5)] + [np.array(measures[:100])]).T)"
   ]
  },
  {
   "cell_type": "code",
   "execution_count": null,
   "id": "ac03ec19",
   "metadata": {},
   "outputs": [],
   "source": [
    "save_annot_files('prepost5', 'shifted_2', annot1_df, annot2_df)"
   ]
  },
  {
   "cell_type": "code",
   "execution_count": null,
   "id": "cbf42eca",
   "metadata": {},
   "outputs": [],
   "source": [
    "save_wp('prepost5', 'shifted_2',100)"
   ]
  },
  {
   "cell_type": "markdown",
   "id": "fed44dd8",
   "metadata": {},
   "source": [
    "## Unit Tests"
   ]
  },
  {
   "cell_type": "code",
   "execution_count": null,
   "id": "d9147908",
   "metadata": {},
   "outputs": [],
   "source": [
    "def eval_file(hypfile, annot_root_1, annot_root_2, hop_sec):\n",
    "    parts = os.path.basename(hypfile).split('__')\n",
    "    assert len(parts) == 2\n",
    "    piece = extractPieceName(parts[0])\n",
    "    annotfile1 = (annot_root_1 / piece / parts[0]).with_suffix('.beat')\n",
    "    annotfile2 = (annot_root_2 / piece / parts[1]).with_suffix('.beat')\n",
    "    \n",
    "    # if groundtruth annotation files are empty, skip this hypothesis file\n",
    "    try:\n",
    "        gt1, gt2 = getTimestamps(annotfile1, annotfile2)\n",
    "        hypalign = loadAlignment(hypfile) # warping path in frames\n",
    "    except:\n",
    "        print(f'Skipping hypothesis file {hypfile}')\n",
    "        return None\n",
    "\n",
    "    if hypalign is None:\n",
    "        err = np.array(np.ones(gt1.shape) * np.inf)\n",
    "    else:\n",
    "        pred2 = np.interp(gt1, hypalign[0,:]*hop_sec, hypalign[1,:]*hop_sec)\n",
    "        err = pred2 - gt2\n",
    "    return err"
   ]
  },
  {
   "cell_type": "code",
   "execution_count": null,
   "id": "5c6c323b",
   "metadata": {},
   "outputs": [],
   "source": [
    "def extractPieceName(fullpath):\n",
    "    basename = os.path.basename(fullpath) # e.g. Chopin_Op068No3_Sztompka-1959_pid9170b-21\n",
    "    parts = basename.split('_')\n",
    "    piece = '_'.join(parts[0:2]) # e.g. Chopin_Op068No3\n",
    "    return piece"
   ]
  },
  {
   "cell_type": "code",
   "execution_count": null,
   "id": "bcecc4f1",
   "metadata": {},
   "outputs": [],
   "source": [
    "def getTimestamps(annotfile1, annotfile2):\n",
    "    df1 = pd.read_csv(annotfile1, header=None, sep='\\s+', skiprows=3) \n",
    "    df2 = pd.read_csv(annotfile2, header=None, sep='\\s+', skiprows=3)\n",
    "\n",
    "    df_merged = pd.merge(df1, df2, on=[2], how='inner')\n",
    "    df_merged = df_merged[df_merged[2].astype(str).str.match(\".*\\d$\")]\n",
    "\n",
    "    return df_merged['0_x'], df_merged['0_y']"
   ]
  },
  {
   "cell_type": "code",
   "execution_count": null,
   "id": "db299879",
   "metadata": {},
   "outputs": [],
   "source": [
    "def loadAlignment(hypfile):\n",
    "    with open(hypfile, 'rb') as f:\n",
    "        d = pickle.load(f)\n",
    "    return d"
   ]
  },
  {
   "cell_type": "code",
   "execution_count": null,
   "id": "099313f5",
   "metadata": {},
   "outputs": [],
   "source": [
    "def test_exact_match(hypalign, benchmark, hop_sec=512/22050):\n",
    "    errs = eval_file(hypalign, unit_tests_path / benchmark, unit_tests_path / benchmark, hop_sec)\n",
    "    \n",
    "    if benchmark == 'matching' or benchmark == 'subseq10' or benchmark == 'post5':\n",
    "        assert np.all(errs == 0)\n",
    "    elif benchmark == 'partialOverlap':\n",
    "        assert np.all(np.abs(errs) == 41)\n",
    "    elif benchmark == 'pre5' or benchmark == 'prepost5':\n",
    "        assert np.all(np.abs(errs) == 5)"
   ]
  },
  {
   "cell_type": "code",
   "execution_count": null,
   "id": "fda2cc9d",
   "metadata": {},
   "outputs": [],
   "source": [
    "def test_shifted(hypalign, benchmark, shift_sec, hop_sec=512/22050):\n",
    "    errs = eval_file(hypalign, unit_tests_path / benchmark, unit_tests_path / benchmark, hop_sec)\n",
    "    \n",
    "    if benchmark == 'matching' or benchmark == 'subseq10' or benchmark == 'post5':\n",
    "        assert np.all(np.abs(errs) == shift_sec)\n",
    "    elif benchmark == 'partialOverlap':\n",
    "        assert np.all(np.abs(errs) == 41-2) or np.all(np.abs(errs) == 41+2)\n",
    "    elif benchmark == 'pre5' or benchmark == 'prepost5':\n",
    "        assert np.all(np.abs(errs) == 5-2) or np.all(np.abs(errs) == 5+2)"
   ]
  },
  {
   "cell_type": "markdown",
   "id": "e281e560",
   "metadata": {},
   "source": [
    "**Matching**"
   ]
  },
  {
   "cell_type": "code",
   "execution_count": null,
   "id": "0fbd9b9b",
   "metadata": {},
   "outputs": [],
   "source": [
    "benchmark = 'matching'"
   ]
  },
  {
   "cell_type": "code",
   "execution_count": null,
   "id": "41cef9fb",
   "metadata": {},
   "outputs": [],
   "source": [
    "wp_exact_match = Path(unit_tests_path / 'matching' / 'exact_match' / 'exact_match_annot1__exact_match_annot2.pkl')\n",
    "wp_shifted_2 = Path(unit_tests_path / 'matching' /'shifted_2' / 'shifted_2_annot1__shifted_2_annot2.pkl')"
   ]
  },
  {
   "cell_type": "code",
   "execution_count": null,
   "id": "09de6848",
   "metadata": {},
   "outputs": [],
   "source": [
    "test_exact_match(wp_exact_match, benchmark)"
   ]
  },
  {
   "cell_type": "code",
   "execution_count": null,
   "id": "268b3eb9",
   "metadata": {},
   "outputs": [],
   "source": [
    "test_shifted(wp_shifted_2, benchmark, 2)"
   ]
  },
  {
   "cell_type": "markdown",
   "id": "1f4b59d3",
   "metadata": {},
   "source": [
    "**Subseq10**"
   ]
  },
  {
   "cell_type": "code",
   "execution_count": null,
   "id": "17cf0fc2",
   "metadata": {},
   "outputs": [],
   "source": [
    "benchmark = 'subseq10'"
   ]
  },
  {
   "cell_type": "code",
   "execution_count": null,
   "id": "f6511951",
   "metadata": {},
   "outputs": [],
   "source": [
    "wp_exact_match = Path(unit_tests_path / 'matching' / 'exact_match' / 'exact_match_annot1__exact_match_annot2.pkl')\n",
    "wp_shifted_2 = Path(unit_tests_path / 'matching' /'shifted_2' / 'shifted_2_annot1__shifted_2_annot2.pkl')"
   ]
  },
  {
   "cell_type": "code",
   "execution_count": null,
   "id": "03b29ed3",
   "metadata": {},
   "outputs": [],
   "source": [
    "test_exact_match(wp_exact_match, benchmark)"
   ]
  },
  {
   "cell_type": "code",
   "execution_count": null,
   "id": "83785f86",
   "metadata": {},
   "outputs": [],
   "source": [
    "test_shifted(wp_shifted_2, benchmark, 2)"
   ]
  },
  {
   "cell_type": "markdown",
   "id": "803086b8",
   "metadata": {},
   "source": [
    "**PartialOverlap**"
   ]
  },
  {
   "cell_type": "code",
   "execution_count": null,
   "id": "2ca89e0d",
   "metadata": {},
   "outputs": [],
   "source": [
    "benchmark = 'partialOverlap'"
   ]
  },
  {
   "cell_type": "code",
   "execution_count": null,
   "id": "b1a2d1f0",
   "metadata": {},
   "outputs": [],
   "source": [
    "wp_exact_match = Path(unit_tests_path / benchmark / 'exact_match' / 'exact_match_annot1__exact_match_annot2.pkl')\n",
    "wp_shifted_2 = Path(unit_tests_path / benchmark /'shifted_2' / 'shifted_2_annot1__shifted_2_annot2.pkl')"
   ]
  },
  {
   "cell_type": "code",
   "execution_count": null,
   "id": "ad256d7e",
   "metadata": {},
   "outputs": [],
   "source": [
    "test_exact_match(wp_exact_match, benchmark)"
   ]
  },
  {
   "cell_type": "code",
   "execution_count": null,
   "id": "9a98cac4",
   "metadata": {},
   "outputs": [],
   "source": [
    "test_shifted(wp_shifted_2, benchmark, 2)"
   ]
  },
  {
   "cell_type": "markdown",
   "id": "b3e7d859",
   "metadata": {},
   "source": [
    "**Pre5**"
   ]
  },
  {
   "cell_type": "code",
   "execution_count": null,
   "id": "1f445c5b",
   "metadata": {},
   "outputs": [],
   "source": [
    "benchmark = 'pre5'"
   ]
  },
  {
   "cell_type": "code",
   "execution_count": null,
   "id": "cdebae91",
   "metadata": {},
   "outputs": [],
   "source": [
    "wp_exact_match = Path(unit_tests_path / benchmark / 'exact_match' / 'exact_match_annot1__exact_match_annot2.pkl')\n",
    "wp_shifted_2 = Path(unit_tests_path / benchmark /'shifted_2' / 'shifted_2_annot1__shifted_2_annot2.pkl')"
   ]
  },
  {
   "cell_type": "code",
   "execution_count": null,
   "id": "fc7a36af",
   "metadata": {},
   "outputs": [],
   "source": [
    "test_exact_match(wp_exact_match, benchmark)"
   ]
  },
  {
   "cell_type": "code",
   "execution_count": null,
   "id": "4d66da77",
   "metadata": {},
   "outputs": [],
   "source": [
    "test_shifted(wp_shifted_2, benchmark, 2)"
   ]
  },
  {
   "cell_type": "markdown",
   "id": "439c00a3",
   "metadata": {},
   "source": [
    "**Post5**"
   ]
  },
  {
   "cell_type": "code",
   "execution_count": null,
   "id": "31ebea2a",
   "metadata": {},
   "outputs": [],
   "source": [
    "benchmark = 'post5'"
   ]
  },
  {
   "cell_type": "code",
   "execution_count": null,
   "id": "6694f462",
   "metadata": {},
   "outputs": [],
   "source": [
    "wp_exact_match = Path(unit_tests_path / benchmark / 'exact_match' / 'exact_match_annot1__exact_match_annot2.pkl')\n",
    "wp_shifted_2 = Path(unit_tests_path / benchmark /'shifted_2' / 'shifted_2_annot1__shifted_2_annot2.pkl')"
   ]
  },
  {
   "cell_type": "code",
   "execution_count": null,
   "id": "ba213e95",
   "metadata": {},
   "outputs": [],
   "source": [
    "test_exact_match(wp_exact_match, benchmark)"
   ]
  },
  {
   "cell_type": "code",
   "execution_count": null,
   "id": "077c9739",
   "metadata": {},
   "outputs": [],
   "source": [
    "test_shifted(wp_shifted_2, benchmark, 2)"
   ]
  },
  {
   "cell_type": "markdown",
   "id": "e47b9e9a",
   "metadata": {},
   "source": [
    "**PrePost5**"
   ]
  },
  {
   "cell_type": "code",
   "execution_count": null,
   "id": "d100cd1a",
   "metadata": {},
   "outputs": [],
   "source": [
    "benchmark = 'prepost5'"
   ]
  },
  {
   "cell_type": "code",
   "execution_count": null,
   "id": "e6a3753a",
   "metadata": {},
   "outputs": [],
   "source": [
    "wp_exact_match = Path(unit_tests_path / benchmark / 'exact_match' / 'exact_match_annot1__exact_match_annot2.pkl')\n",
    "wp_shifted_2 = Path(unit_tests_path / benchmark /'shifted_2' / 'shifted_2_annot1__shifted_2_annot2.pkl')"
   ]
  },
  {
   "cell_type": "code",
   "execution_count": null,
   "id": "2bb26b7f",
   "metadata": {},
   "outputs": [],
   "source": [
    "test_exact_match(wp_exact_match, benchmark)"
   ]
  },
  {
   "cell_type": "code",
   "execution_count": null,
   "id": "cad5ccdd",
   "metadata": {},
   "outputs": [],
   "source": [
    "test_shifted(wp_shifted_2, benchmark, 2)"
   ]
  },
  {
   "cell_type": "code",
   "execution_count": null,
   "id": "3179c27e",
   "metadata": {},
   "outputs": [],
   "source": []
  }
 ],
 "metadata": {
  "kernelspec": {
   "display_name": "Python 3 (ipykernel)",
   "language": "python",
   "name": "python3"
  },
  "language_info": {
   "codemirror_mode": {
    "name": "ipython",
    "version": 3
   },
   "file_extension": ".py",
   "mimetype": "text/x-python",
   "name": "python",
   "nbconvert_exporter": "python",
   "pygments_lexer": "ipython3",
   "version": "3.7.13"
  }
 },
 "nbformat": 4,
 "nbformat_minor": 5
}
