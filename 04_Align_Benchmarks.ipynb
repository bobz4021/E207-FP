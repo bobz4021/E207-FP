{
 "cells": [
  {
   "cell_type": "code",
   "execution_count": 4,
   "id": "4b662348",
   "metadata": {},
   "outputs": [],
   "source": [
    "import numpy as np\n",
    "import matplotlib.pyplot as plt\n",
    "import os.path\n",
    "from pathlib import Path\n",
    "import pickle\n",
    "import multiprocessing\n",
    "import time\n",
    "import gc\n",
    "from tqdm import tqdm"
   ]
  },
  {
   "cell_type": "code",
   "execution_count": 5,
   "id": "cc67af94",
   "metadata": {},
   "outputs": [],
   "source": [
    "import import_ipynb"
   ]
  },
  {
   "cell_type": "code",
   "execution_count": 6,
   "id": "dc8957b7",
   "metadata": {},
   "outputs": [
    {
     "name": "stdout",
     "output_type": "stream",
     "text": [
      "importing Jupyter notebook from DTW.ipynb\n"
     ]
    }
   ],
   "source": [
    "import DTW"
   ]
  },
  {
   "cell_type": "code",
   "execution_count": 7,
   "id": "381d3078",
   "metadata": {},
   "outputs": [
    {
     "name": "stdout",
     "output_type": "stream",
     "text": [
      "importing Jupyter notebook from NWTW.ipynb\n",
      "The Cython extension is already loaded. To reload it, use:\n",
      "  %reload_ext Cython\n"
     ]
    }
   ],
   "source": [
    "import NWTW"
   ]
  },
  {
   "cell_type": "code",
   "execution_count": 8,
   "id": "fd55f441",
   "metadata": {},
   "outputs": [
    {
     "name": "stdout",
     "output_type": "stream",
     "text": [
      "importing Jupyter notebook from FlexDTW.ipynb\n",
      "The Cython extension is already loaded. To reload it, use:\n",
      "  %reload_ext Cython\n"
     ]
    }
   ],
   "source": [
    "import FlexDTW"
   ]
  },
  {
   "cell_type": "code",
   "execution_count": 9,
   "id": "47247763",
   "metadata": {},
   "outputs": [],
   "source": [
    "DATASET = 'train' # 'test'\n",
    "VERSION = 'toy'"
   ]
  },
  {
   "cell_type": "code",
   "execution_count": 10,
   "id": "b374faf3",
   "metadata": {},
   "outputs": [],
   "source": [
    "QUERY_LIST = Path(f'cfg_files/queries.{DATASET}.{VERSION}')"
   ]
  },
  {
   "cell_type": "code",
   "execution_count": 11,
   "id": "ab4b7065",
   "metadata": {},
   "outputs": [],
   "source": [
    "SYSTEMS = ['dtw1', 'dtw2', 'dtw3', 'subseqdtw1', 'subseqdtw2', 'subseqdtw3', 'nwtw', 'flexdtw']\n",
    "BENCHMARKS = ['matching', 'subseq_20', 'subseq_30', 'subseq_40', 'partialStart', 'partialEnd', 'partialOverlap', \n",
    "              'pre_5', 'pre_10', 'pre_20', 'post_5', 'post_10', 'post_20', 'prepost_5', 'prepost_10',\n",
    "              'prepost_20']"
   ]
  },
  {
   "cell_type": "code",
   "execution_count": 12,
   "id": "567420c2",
   "metadata": {},
   "outputs": [],
   "source": [
    "features_root = Path('../ttmp/Chopin_Mazurkas_features')\n",
    "FEAT_DIRS = {}\n",
    "\n",
    "for benchmark in BENCHMARKS:\n",
    "    if benchmark == 'partialOverlap':\n",
    "        FEAT_DIRS[benchmark] = ([features_root/'partialStart', features_root/'partialEnd'])\n",
    "    elif 'prepost' in benchmark:\n",
    "        sec = benchmark.split('_')[-1]\n",
    "        FEAT_DIRS[benchmark] = ([features_root/f'pre_{sec}', features_root/f'post_{sec}'])\n",
    "    else:\n",
    "        FEAT_DIRS[benchmark] = [features_root/f'{benchmark}', features_root/'original']"
   ]
  },
  {
   "cell_type": "code",
   "execution_count": 13,
   "id": "c556bb0f",
   "metadata": {},
   "outputs": [],
   "source": [
    "steps = {'dtw1': np.array([1,1,1,2,2,1]).reshape((-1,2)),\n",
    "        'dtw2': np.array([1,1,1,2,2,1]).reshape((-1,2)),\n",
    "        'dtw3': np.array([1,1,1,2,2,1]).reshape((-1,2)),\n",
    "        'subseqdtw1': np.array([1,1,1,2,2,1]).reshape((-1,2)),\n",
    "        'subseqdtw2': np.array([1,1,1,2,2,1]).reshape((-1,2)),\n",
    "        'subseqdtw3': np.array([1,1,1,2,2,1]).reshape((-1,2)),\n",
    "        'nwtw': 0, # transitions are specified in NWTW algorithm\n",
    "        'flexdtw': np.array([1,1,1,2,2,1]).reshape((-1,2))\n",
    "        }\n",
    "weights = {'dtw1': np.array([2,3,3]),\n",
    "          'dtw2': np.array([1,1,1]),\n",
    "          'dtw3': np.array([1,2,2]),\n",
    "          'subseqdtw1': np.array([1,1,2]),\n",
    "          'subseqdtw2': np.array([2,3,3]),\n",
    "          'subseqdtw3': np.array([1,2,2]),\n",
    "          'nwtw': 0, # weights are specified in NWTW algorithm\n",
    "          'flexdtw': np.array([1.25,3,3])\n",
    "          }\n",
    "other_params = {\n",
    "                'flexdtw': {'beta': 0.1}\n",
    "               }"
   ]
  },
  {
   "cell_type": "markdown",
   "id": "01626c9f",
   "metadata": {},
   "source": [
    "# Benchmarks"
   ]
  },
  {
   "cell_type": "code",
   "execution_count": 14,
   "id": "6b2ab6ec",
   "metadata": {},
   "outputs": [],
   "source": [
    "def get_outfile(outdir, benchmark, system, queryid):\n",
    "    outpath = (outdir / benchmark / system)\n",
    "    outpath.mkdir(parents=True, exist_ok=True)\n",
    "    outfile = (outpath / queryid).with_suffix('.pkl')\n",
    "    return outfile"
   ]
  },
  {
   "cell_type": "code",
   "execution_count": 15,
   "id": "400d74ab",
   "metadata": {},
   "outputs": [],
   "source": [
    "def align_system(system, F1, F2, outfile):\n",
    "    \n",
    "    subseq = 'subseq' in system\n",
    "    \n",
    "    if system == 'flexdtw':\n",
    "        L1 = F1.shape[1]\n",
    "        L2 = F2.shape[1]\n",
    "        buffer = min(L1, L2) * (1 - (1 - other_params[system]['beta']) * min(L1,L2) / max(L1, L2))\n",
    "        C = 1 - FlexDTW.L2norm(F1).T @ FlexDTW.L2norm(F2) # cos distance metric\n",
    "        best_cost, wp, debug = FlexDTW.flexdtw(C, steps=steps[system], weights=weights[system], buffer=buffer)\n",
    "    elif system == 'nwtw':\n",
    "        downsample = 1\n",
    "        C = 1 - NWTW.L2norm(F1)[:,0::downsample].T @ NWTW.L2norm(F2)[:,0::downsample] # cos distance metric\n",
    "        optcost, wp, D, B = NWTW.NWTW_faster(C, gamma=0.346)\n",
    "    else:\n",
    "        downsample = 1\n",
    "        if subseq and (F2.shape[1] < F1.shape[1]):\n",
    "            C = 1 - DTW.L2norm(F2)[:,0::downsample].T @ DTW.L2norm(F1)[:,0::downsample] # cos distance metric\n",
    "            wp = DTW.alignDTW(C, steps=steps[system], weights=weights[system], downsample=downsample, outfile=outfile, subseq=subseq)\n",
    "            wp = wp[::-1,:]\n",
    "        else:\n",
    "            C = 1 - DTW.L2norm(F1)[:,0::downsample].T @ DTW.L2norm(F2)[:,0::downsample] # cos distance metric\n",
    "            wp = DTW.alignDTW(C, steps=steps[system], weights=weights[system], downsample=downsample, outfile=outfile, subseq=subseq)\n",
    "            \n",
    "    if wp is not None:\n",
    "        pickle.dump(wp, open(outfile, 'wb'))"
   ]
  },
  {
   "cell_type": "code",
   "execution_count": 20,
   "id": "d1e1aade",
   "metadata": {},
   "outputs": [],
   "source": [
    "def run_all_benchmarks(outdir):\n",
    "    parts_batch = []\n",
    "    queryids = []\n",
    "    with open(QUERY_LIST, 'r') as f:\n",
    "        for line in f:\n",
    "            parts = line.strip().split(' ')\n",
    "            assert len(parts) == 2\n",
    "            queryid = os.path.basename(parts[0]) + '__' + os.path.basename(parts[1])\n",
    "            \n",
    "            if 'Czerny-Stefanska-1949_pid9086' in queryid:\n",
    "                continue\n",
    "            \n",
    "            parts_batch.append(parts)\n",
    "            queryids.append(queryid)\n",
    "            \n",
    "    for benchmark in tqdm(BENCHMARKS):\n",
    "#         for i in range(len(parts_batch)):\n",
    "#             run_benchmark(benchmark, FEAT_DIRS[benchmark][0], FEAT_DIRS[benchmark][1], parts_batch[i], outdir, queryids[i])\n",
    "        run_benchmark_batch(benchmark, FEAT_DIRS[benchmark][0], FEAT_DIRS[benchmark][1], parts_batch, outdir, queryids, n_cores=4)"
   ]
  },
  {
   "cell_type": "code",
   "execution_count": 17,
   "id": "e7f33ba6",
   "metadata": {},
   "outputs": [],
   "source": [
    "def run_benchmark_batch(benchmark, featdir1, featdir2, parts_batch, outdir, queryids, n_cores):\n",
    "    inputs = []\n",
    "    assert len(parts_batch) == len(queryids)\n",
    "    \n",
    "    for i in range(len(parts_batch)):\n",
    "        featfile1 = (featdir1 / parts_batch[i][0]).with_suffix('.npy')\n",
    "        featfile2 = (featdir2 / parts_batch[i][1]).with_suffix('.npy')\n",
    "        \n",
    "        F1 = np.load(featfile1)\n",
    "        F2 = np.load(featfile2)\n",
    "        \n",
    "        for system in SYSTEMS:\n",
    "            \n",
    "            # only compute alignment if this hypothesis file doesn't already exist\n",
    "            outfile = get_outfile(outdir, benchmark, system, queryids[i])\n",
    "            if not os.path.isfile(outfile):   \n",
    "                inputs.append((system, F1, F2, outfile))\n",
    "\n",
    "    # process files in parallel\n",
    "    pool = multiprocessing.Pool(processes = multiprocessing.cpu_count()-1)\n",
    "    pool.starmap(align_system, inputs)\n",
    "    \n",
    "    \n",
    "    return"
   ]
  },
  {
   "cell_type": "code",
   "execution_count": 18,
   "id": "d3627a0d",
   "metadata": {},
   "outputs": [],
   "source": [
    "def run_benchmark(benchmark, featdir1, featdir2, parts, outdir, queryid):\n",
    "    featfile1 = (featdir1 / parts[0]).with_suffix('.npy')\n",
    "    featfile2 = (featdir2 / parts[1]).with_suffix('.npy')\n",
    "\n",
    "    F1 = np.load(featfile1)\n",
    "    F2 = np.load(featfile2)\n",
    "        \n",
    "    # run all baselines\n",
    "    for system in SYSTEMS:\n",
    "        \n",
    "        # only compute alignment if this hypothesis file doesn't already exist\n",
    "        outfile = get_outfile(outdir, benchmark, system, queryids[i])\n",
    "        if not os.path.isfile(outfile):   \n",
    "            align_system(system, F1, F2, outfile)"
   ]
  },
  {
   "cell_type": "code",
   "execution_count": 21,
   "id": "35d8ee2f",
   "metadata": {
    "scrolled": true
   },
   "outputs": [
    {
     "name": "stderr",
     "output_type": "stream",
     "text": [
      "  0%|          | 0/16 [01:23<?, ?it/s]\n"
     ]
    },
    {
     "ename": "KeyboardInterrupt",
     "evalue": "",
     "output_type": "error",
     "traceback": [
      "\u001b[0;31m---------------------------------------------------------------------------\u001b[0m",
      "\u001b[0;31mKeyboardInterrupt\u001b[0m                         Traceback (most recent call last)",
      "\u001b[0;32m/tmp/ipykernel_3015617/4166156084.py\u001b[0m in \u001b[0;36m<module>\u001b[0;34m\u001b[0m\n\u001b[1;32m      1\u001b[0m \u001b[0moutdir\u001b[0m \u001b[0;34m=\u001b[0m \u001b[0mPath\u001b[0m\u001b[0;34m(\u001b[0m\u001b[0;34mf'experiments_{DATASET}/{VERSION}'\u001b[0m\u001b[0;34m)\u001b[0m\u001b[0;34m\u001b[0m\u001b[0;34m\u001b[0m\u001b[0m\n\u001b[0;32m----> 2\u001b[0;31m \u001b[0mrun_all_benchmarks\u001b[0m\u001b[0;34m(\u001b[0m\u001b[0moutdir\u001b[0m\u001b[0;34m)\u001b[0m\u001b[0;34m\u001b[0m\u001b[0;34m\u001b[0m\u001b[0m\n\u001b[0m",
      "\u001b[0;32m/tmp/ipykernel_3015617/3740083972.py\u001b[0m in \u001b[0;36mrun_all_benchmarks\u001b[0;34m(outdir)\u001b[0m\n\u001b[1;32m     17\u001b[0m \u001b[0;31m#         for i in range(len(parts_batch)):\u001b[0m\u001b[0;34m\u001b[0m\u001b[0;34m\u001b[0m\u001b[0;34m\u001b[0m\u001b[0m\n\u001b[1;32m     18\u001b[0m \u001b[0;31m#             run_benchmark(benchmark, FEAT_DIRS[benchmark][0], FEAT_DIRS[benchmark][1], parts_batch[i], outdir, queryids[i])\u001b[0m\u001b[0;34m\u001b[0m\u001b[0;34m\u001b[0m\u001b[0;34m\u001b[0m\u001b[0m\n\u001b[0;32m---> 19\u001b[0;31m         \u001b[0mrun_benchmark_batch\u001b[0m\u001b[0;34m(\u001b[0m\u001b[0mbenchmark\u001b[0m\u001b[0;34m,\u001b[0m \u001b[0mFEAT_DIRS\u001b[0m\u001b[0;34m[\u001b[0m\u001b[0mbenchmark\u001b[0m\u001b[0;34m]\u001b[0m\u001b[0;34m[\u001b[0m\u001b[0;36m0\u001b[0m\u001b[0;34m]\u001b[0m\u001b[0;34m,\u001b[0m \u001b[0mFEAT_DIRS\u001b[0m\u001b[0;34m[\u001b[0m\u001b[0mbenchmark\u001b[0m\u001b[0;34m]\u001b[0m\u001b[0;34m[\u001b[0m\u001b[0;36m1\u001b[0m\u001b[0;34m]\u001b[0m\u001b[0;34m,\u001b[0m \u001b[0mparts_batch\u001b[0m\u001b[0;34m,\u001b[0m \u001b[0moutdir\u001b[0m\u001b[0;34m,\u001b[0m \u001b[0mqueryids\u001b[0m\u001b[0;34m,\u001b[0m \u001b[0mn_cores\u001b[0m\u001b[0;34m=\u001b[0m\u001b[0;36m4\u001b[0m\u001b[0;34m)\u001b[0m\u001b[0;34m\u001b[0m\u001b[0;34m\u001b[0m\u001b[0m\n\u001b[0m",
      "\u001b[0;32m/tmp/ipykernel_3015617/1071193438.py\u001b[0m in \u001b[0;36mrun_benchmark_batch\u001b[0;34m(benchmark, featdir1, featdir2, parts_batch, outdir, queryids, n_cores)\u001b[0m\n\u001b[1;32m     19\u001b[0m     \u001b[0;31m# process files in parallel\u001b[0m\u001b[0;34m\u001b[0m\u001b[0;34m\u001b[0m\u001b[0;34m\u001b[0m\u001b[0m\n\u001b[1;32m     20\u001b[0m     \u001b[0mpool\u001b[0m \u001b[0;34m=\u001b[0m \u001b[0mmultiprocessing\u001b[0m\u001b[0;34m.\u001b[0m\u001b[0mPool\u001b[0m\u001b[0;34m(\u001b[0m\u001b[0mprocesses\u001b[0m \u001b[0;34m=\u001b[0m \u001b[0mmultiprocessing\u001b[0m\u001b[0;34m.\u001b[0m\u001b[0mcpu_count\u001b[0m\u001b[0;34m(\u001b[0m\u001b[0;34m)\u001b[0m\u001b[0;34m-\u001b[0m\u001b[0;36m1\u001b[0m\u001b[0;34m)\u001b[0m\u001b[0;34m\u001b[0m\u001b[0;34m\u001b[0m\u001b[0m\n\u001b[0;32m---> 21\u001b[0;31m     \u001b[0mpool\u001b[0m\u001b[0;34m.\u001b[0m\u001b[0mstarmap\u001b[0m\u001b[0;34m(\u001b[0m\u001b[0malign_system\u001b[0m\u001b[0;34m,\u001b[0m \u001b[0minputs\u001b[0m\u001b[0;34m)\u001b[0m\u001b[0;34m\u001b[0m\u001b[0;34m\u001b[0m\u001b[0m\n\u001b[0m\u001b[1;32m     22\u001b[0m \u001b[0;34m\u001b[0m\u001b[0m\n\u001b[1;32m     23\u001b[0m \u001b[0;34m\u001b[0m\u001b[0m\n",
      "\u001b[0;32m~/anaconda3/lib/python3.7/multiprocessing/pool.py\u001b[0m in \u001b[0;36mstarmap\u001b[0;34m(self, func, iterable, chunksize)\u001b[0m\n\u001b[1;32m    274\u001b[0m         \u001b[0;31m`\u001b[0m\u001b[0mfunc\u001b[0m\u001b[0;31m`\u001b[0m \u001b[0;32mand\u001b[0m \u001b[0;34m(\u001b[0m\u001b[0ma\u001b[0m\u001b[0;34m,\u001b[0m \u001b[0mb\u001b[0m\u001b[0;34m)\u001b[0m \u001b[0mbecomes\u001b[0m \u001b[0mfunc\u001b[0m\u001b[0;34m(\u001b[0m\u001b[0ma\u001b[0m\u001b[0;34m,\u001b[0m \u001b[0mb\u001b[0m\u001b[0;34m)\u001b[0m\u001b[0;34m.\u001b[0m\u001b[0;34m\u001b[0m\u001b[0;34m\u001b[0m\u001b[0m\n\u001b[1;32m    275\u001b[0m         '''\n\u001b[0;32m--> 276\u001b[0;31m         \u001b[0;32mreturn\u001b[0m \u001b[0mself\u001b[0m\u001b[0;34m.\u001b[0m\u001b[0m_map_async\u001b[0m\u001b[0;34m(\u001b[0m\u001b[0mfunc\u001b[0m\u001b[0;34m,\u001b[0m \u001b[0miterable\u001b[0m\u001b[0;34m,\u001b[0m \u001b[0mstarmapstar\u001b[0m\u001b[0;34m,\u001b[0m \u001b[0mchunksize\u001b[0m\u001b[0;34m)\u001b[0m\u001b[0;34m.\u001b[0m\u001b[0mget\u001b[0m\u001b[0;34m(\u001b[0m\u001b[0;34m)\u001b[0m\u001b[0;34m\u001b[0m\u001b[0;34m\u001b[0m\u001b[0m\n\u001b[0m\u001b[1;32m    277\u001b[0m \u001b[0;34m\u001b[0m\u001b[0m\n\u001b[1;32m    278\u001b[0m     def starmap_async(self, func, iterable, chunksize=None, callback=None,\n",
      "\u001b[0;32m~/anaconda3/lib/python3.7/multiprocessing/pool.py\u001b[0m in \u001b[0;36mget\u001b[0;34m(self, timeout)\u001b[0m\n\u001b[1;32m    649\u001b[0m \u001b[0;34m\u001b[0m\u001b[0m\n\u001b[1;32m    650\u001b[0m     \u001b[0;32mdef\u001b[0m \u001b[0mget\u001b[0m\u001b[0;34m(\u001b[0m\u001b[0mself\u001b[0m\u001b[0;34m,\u001b[0m \u001b[0mtimeout\u001b[0m\u001b[0;34m=\u001b[0m\u001b[0;32mNone\u001b[0m\u001b[0;34m)\u001b[0m\u001b[0;34m:\u001b[0m\u001b[0;34m\u001b[0m\u001b[0;34m\u001b[0m\u001b[0m\n\u001b[0;32m--> 651\u001b[0;31m         \u001b[0mself\u001b[0m\u001b[0;34m.\u001b[0m\u001b[0mwait\u001b[0m\u001b[0;34m(\u001b[0m\u001b[0mtimeout\u001b[0m\u001b[0;34m)\u001b[0m\u001b[0;34m\u001b[0m\u001b[0;34m\u001b[0m\u001b[0m\n\u001b[0m\u001b[1;32m    652\u001b[0m         \u001b[0;32mif\u001b[0m \u001b[0;32mnot\u001b[0m \u001b[0mself\u001b[0m\u001b[0;34m.\u001b[0m\u001b[0mready\u001b[0m\u001b[0;34m(\u001b[0m\u001b[0;34m)\u001b[0m\u001b[0;34m:\u001b[0m\u001b[0;34m\u001b[0m\u001b[0;34m\u001b[0m\u001b[0m\n\u001b[1;32m    653\u001b[0m             \u001b[0;32mraise\u001b[0m \u001b[0mTimeoutError\u001b[0m\u001b[0;34m\u001b[0m\u001b[0;34m\u001b[0m\u001b[0m\n",
      "\u001b[0;32m~/anaconda3/lib/python3.7/multiprocessing/pool.py\u001b[0m in \u001b[0;36mwait\u001b[0;34m(self, timeout)\u001b[0m\n\u001b[1;32m    646\u001b[0m \u001b[0;34m\u001b[0m\u001b[0m\n\u001b[1;32m    647\u001b[0m     \u001b[0;32mdef\u001b[0m \u001b[0mwait\u001b[0m\u001b[0;34m(\u001b[0m\u001b[0mself\u001b[0m\u001b[0;34m,\u001b[0m \u001b[0mtimeout\u001b[0m\u001b[0;34m=\u001b[0m\u001b[0;32mNone\u001b[0m\u001b[0;34m)\u001b[0m\u001b[0;34m:\u001b[0m\u001b[0;34m\u001b[0m\u001b[0;34m\u001b[0m\u001b[0m\n\u001b[0;32m--> 648\u001b[0;31m         \u001b[0mself\u001b[0m\u001b[0;34m.\u001b[0m\u001b[0m_event\u001b[0m\u001b[0;34m.\u001b[0m\u001b[0mwait\u001b[0m\u001b[0;34m(\u001b[0m\u001b[0mtimeout\u001b[0m\u001b[0;34m)\u001b[0m\u001b[0;34m\u001b[0m\u001b[0;34m\u001b[0m\u001b[0m\n\u001b[0m\u001b[1;32m    649\u001b[0m \u001b[0;34m\u001b[0m\u001b[0m\n\u001b[1;32m    650\u001b[0m     \u001b[0;32mdef\u001b[0m \u001b[0mget\u001b[0m\u001b[0;34m(\u001b[0m\u001b[0mself\u001b[0m\u001b[0;34m,\u001b[0m \u001b[0mtimeout\u001b[0m\u001b[0;34m=\u001b[0m\u001b[0;32mNone\u001b[0m\u001b[0;34m)\u001b[0m\u001b[0;34m:\u001b[0m\u001b[0;34m\u001b[0m\u001b[0;34m\u001b[0m\u001b[0m\n",
      "\u001b[0;32m~/anaconda3/lib/python3.7/threading.py\u001b[0m in \u001b[0;36mwait\u001b[0;34m(self, timeout)\u001b[0m\n\u001b[1;32m    550\u001b[0m             \u001b[0msignaled\u001b[0m \u001b[0;34m=\u001b[0m \u001b[0mself\u001b[0m\u001b[0;34m.\u001b[0m\u001b[0m_flag\u001b[0m\u001b[0;34m\u001b[0m\u001b[0;34m\u001b[0m\u001b[0m\n\u001b[1;32m    551\u001b[0m             \u001b[0;32mif\u001b[0m \u001b[0;32mnot\u001b[0m \u001b[0msignaled\u001b[0m\u001b[0;34m:\u001b[0m\u001b[0;34m\u001b[0m\u001b[0;34m\u001b[0m\u001b[0m\n\u001b[0;32m--> 552\u001b[0;31m                 \u001b[0msignaled\u001b[0m \u001b[0;34m=\u001b[0m \u001b[0mself\u001b[0m\u001b[0;34m.\u001b[0m\u001b[0m_cond\u001b[0m\u001b[0;34m.\u001b[0m\u001b[0mwait\u001b[0m\u001b[0;34m(\u001b[0m\u001b[0mtimeout\u001b[0m\u001b[0;34m)\u001b[0m\u001b[0;34m\u001b[0m\u001b[0;34m\u001b[0m\u001b[0m\n\u001b[0m\u001b[1;32m    553\u001b[0m             \u001b[0;32mreturn\u001b[0m \u001b[0msignaled\u001b[0m\u001b[0;34m\u001b[0m\u001b[0;34m\u001b[0m\u001b[0m\n\u001b[1;32m    554\u001b[0m \u001b[0;34m\u001b[0m\u001b[0m\n",
      "\u001b[0;32m~/anaconda3/lib/python3.7/threading.py\u001b[0m in \u001b[0;36mwait\u001b[0;34m(self, timeout)\u001b[0m\n\u001b[1;32m    294\u001b[0m         \u001b[0;32mtry\u001b[0m\u001b[0;34m:\u001b[0m    \u001b[0;31m# restore state no matter what (e.g., KeyboardInterrupt)\u001b[0m\u001b[0;34m\u001b[0m\u001b[0;34m\u001b[0m\u001b[0m\n\u001b[1;32m    295\u001b[0m             \u001b[0;32mif\u001b[0m \u001b[0mtimeout\u001b[0m \u001b[0;32mis\u001b[0m \u001b[0;32mNone\u001b[0m\u001b[0;34m:\u001b[0m\u001b[0;34m\u001b[0m\u001b[0;34m\u001b[0m\u001b[0m\n\u001b[0;32m--> 296\u001b[0;31m                 \u001b[0mwaiter\u001b[0m\u001b[0;34m.\u001b[0m\u001b[0macquire\u001b[0m\u001b[0;34m(\u001b[0m\u001b[0;34m)\u001b[0m\u001b[0;34m\u001b[0m\u001b[0;34m\u001b[0m\u001b[0m\n\u001b[0m\u001b[1;32m    297\u001b[0m                 \u001b[0mgotit\u001b[0m \u001b[0;34m=\u001b[0m \u001b[0;32mTrue\u001b[0m\u001b[0;34m\u001b[0m\u001b[0;34m\u001b[0m\u001b[0m\n\u001b[1;32m    298\u001b[0m             \u001b[0;32melse\u001b[0m\u001b[0;34m:\u001b[0m\u001b[0;34m\u001b[0m\u001b[0;34m\u001b[0m\u001b[0m\n",
      "\u001b[0;31mKeyboardInterrupt\u001b[0m: "
     ]
    }
   ],
   "source": [
    "outdir = Path(f'experiments_{DATASET}/{VERSION}')\n",
    "run_all_benchmarks(outdir)"
   ]
  },
  {
   "cell_type": "code",
   "execution_count": null,
   "id": "dc64734d",
   "metadata": {},
   "outputs": [],
   "source": []
  }
 ],
 "metadata": {
  "kernelspec": {
   "display_name": "Python 3 (ipykernel)",
   "language": "python",
   "name": "python3"
  },
  "language_info": {
   "codemirror_mode": {
    "name": "ipython",
    "version": 3
   },
   "file_extension": ".py",
   "mimetype": "text/x-python",
   "name": "python",
   "nbconvert_exporter": "python",
   "pygments_lexer": "ipython3",
   "version": "3.7.16"
  }
 },
 "nbformat": 4,
 "nbformat_minor": 5
}
