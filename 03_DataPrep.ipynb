{
 "cells": [
  {
   "cell_type": "code",
   "execution_count": null,
   "id": "291aed80",
   "metadata": {},
   "outputs": [],
   "source": [
    "import os\n",
    "import glob\n",
    "import wave\n",
    "import IPython.display as ipd\n",
    "import random\n",
    "import librosa as lb\n",
    "import pickle\n",
    "import pandas as pd\n",
    "import numpy as np\n",
    "import multiprocessing\n",
    "from tqdm import tqdm\n",
    "from bisect import bisect\n",
    "from pathlib import Path\n",
    "from pydub import AudioSegment"
   ]
  },
  {
   "cell_type": "code",
   "execution_count": null,
   "id": "23ce3950",
   "metadata": {},
   "outputs": [],
   "source": [
    "train_test_folders = {'train': ['Chopin_Op017No4', 'Chopin_Op063No3'],\n",
    "                      'test': ['Chopin_Op024No2', 'Chopin_Op030No2', 'Chopin_Op068No3']}\n",
    "EXCLUDE = ['Chopin_Op017No4_Ginzburg-1957_pid9156-10', 'Chopin_Op068No3_Koczalski-1948_pid9140-05']"
   ]
  },
  {
   "cell_type": "code",
   "execution_count": null,
   "id": "f08f3866",
   "metadata": {},
   "outputs": [],
   "source": [
    "DATASET = 'train'  # switch to' test' to generate the test data\n",
    "FOLDERS = train_test_folders[DATASET]"
   ]
  },
  {
   "cell_type": "code",
   "execution_count": null,
   "id": "be176745",
   "metadata": {},
   "outputs": [],
   "source": [
    "MAIN_DIR = Path('../ttmp/')\n",
    "BENCHMARKS_DIR = MAIN_DIR/'Chopin_Mazurkas_Benchmarks'\n",
    "FEATURES_DIR = MAIN_DIR/'Chopin_Mazurkas_features'\n",
    "AUDIO_TEMP = MAIN_DIR/'Chopin_Mazurkas_audios'\n",
    "\n",
    "BENCHMARKS_DIR.mkdir(exist_ok=True)\n",
    "FEATURES_DIR.mkdir(exist_ok=True)\n",
    "AUDIO_TEMP.mkdir(exist_ok=True)\n",
    "\n",
    "DATA_DIR = MAIN_DIR/'Chopin_Mazurkas_Modified'\n",
    "AUDIO_DIR = DATA_DIR/'wav_22050_mono/'\n",
    "ANNOT_DIR = DATA_DIR/'annotations_beat'"
   ]
  },
  {
   "cell_type": "code",
   "execution_count": null,
   "id": "cffffa9c",
   "metadata": {},
   "outputs": [],
   "source": [
    "def construct_subseq(x):\n",
    "    \n",
    "    with open(BENCHMARKS_DIR/f'{DATASET}_subseq_{x}.log', 'w') as log_file:\n",
    "        log_file.write('folder, file, start_sec\\n')     \n",
    "        \n",
    "        for folder in AUDIO_DIR.glob('Chopin*'):\n",
    "            folder_name = os.path.abspath(folder).split('/')[-1]\n",
    "            \n",
    "            # only generate given dataset\n",
    "            if folder_name not in FOLDERS:\n",
    "                continue\n",
    "            \n",
    "            # create feature and annot directories for folder\n",
    "            # and audio temp (temp)\n",
    "            (BENCHMARKS_DIR/f'subseq_{x}'/'annotations_beat'/folder_name).mkdir(parents=True, exist_ok=True)\n",
    "            (FEATURES_DIR/f'subseq_{x}'/folder_name).mkdir(parents=True, exist_ok=True)\n",
    "            (AUDIO_TEMP/f'subseq_{x}'/folder_name).mkdir(parents=True, exist_ok=True)\n",
    "            \n",
    "            for file in tqdm(folder.glob('*')):\n",
    "                file_name = os.path.abspath(file).split('/')[-1].split('.')[0]\n",
    "                \n",
    "                if file_name in EXCLUDE:\n",
    "                    continue\n",
    "                    \n",
    "                # sample audio and log start sec of sample    \n",
    "                sample_start, sampled_frames, params = sample_audio(file, x)\n",
    "                log_file.write(f'{folder_name}, {file_name}, {sample_start}\\n')\n",
    "                \n",
    "                # compute and save chroma features\n",
    "                compute_and_save_chroma(sampled_frames, params, Path(f'subseq_{x}')/folder_name/file_name)\n",
    "            \n",
    "                create_annot((ANNOT_DIR/folder_name/file_name).with_suffix('.beat'), \n",
    "                             (BENCHMARKS_DIR/f'subseq_{x}'/'annotations_beat'/folder_name/file_name).with_suffix('.beat'),\n",
    "                             sample_start, sample_start+x)\n",
    "            \n",
    "    "
   ]
  },
  {
   "cell_type": "code",
   "execution_count": null,
   "id": "565d018e",
   "metadata": {},
   "outputs": [],
   "source": [
    "def construct_partial(partial_type):\n",
    "    \"\"\"\n",
    "        data_path: (Path) Chopin Mazurkas dataset\n",
    "        partial_type\n",
    "    \"\"\"\n",
    "    \n",
    "    with open(BENCHMARKS_DIR/f'{DATASET}_partial{partial_type}.log', 'w') as log_file:\n",
    "        log_file.write('folder, file, percentage\\n')\n",
    "    \n",
    "        for folder in AUDIO_DIR.glob('Chopin*'):\n",
    "            folder_name = os.path.abspath(folder).split('/')[-1]\n",
    "            \n",
    "            # only generate given dataset\n",
    "            if folder_name not in FOLDERS:\n",
    "                continue\n",
    "            \n",
    "            # create feature and annot directories for folder\n",
    "            # and audio temp (temp)\n",
    "            (BENCHMARKS_DIR/f'partial{partial_type}'/'annotations_beat'/folder_name).mkdir(parents=True, exist_ok=True)\n",
    "            (FEATURES_DIR/f'partial{partial_type}'/folder_name).mkdir(parents=True, exist_ok=True)\n",
    "            (AUDIO_TEMP/f'partial{partial_type}'/folder_name).mkdir(parents=True, exist_ok=True)\n",
    "\n",
    "            for file in tqdm(folder.glob('*')):\n",
    "                file_name = os.path.abspath(file).split('/')[-1].split('.')[0]\n",
    "                \n",
    "                if file_name in EXCLUDE:\n",
    "                    continue\n",
    "                \n",
    "                percentage = random.randint(55, 75)/100\n",
    "                log_file.write(f'{folder_name}, {file_name}, {percentage}\\n')\n",
    "    \n",
    "                seconds, sampled_frames, params = sample_percentage(file, percentage, partial_type)\n",
    "                compute_and_save_chroma(sampled_frames, params, Path(f'partial{partial_type}')/folder_name/file_name)\n",
    "            \n",
    "                start_end_dict = {'Start': [0, seconds], 'End': [seconds, None]}\n",
    "                    \n",
    "                create_annot((ANNOT_DIR/folder_name/file_name).with_suffix('.beat'),\n",
    "                             (BENCHMARKS_DIR/f'partial{partial_type}'/'annotations_beat'/folder_name/file_name).with_suffix('.beat'),\n",
    "                             start_end_dict[partial_type][0], start_end_dict[partial_type][1])\n",
    "                \n",
    "                \n",
    "                "
   ]
  },
  {
   "cell_type": "code",
   "execution_count": null,
   "id": "714e9f73",
   "metadata": {},
   "outputs": [],
   "source": [
    "def construct_partial_start():\n",
    "    construct_partial('Start')\n",
    "def construct_partial_end():\n",
    "    construct_partial('End')"
   ]
  },
  {
   "cell_type": "code",
   "execution_count": null,
   "id": "4233d3d4",
   "metadata": {},
   "outputs": [],
   "source": [
    "def sample_audio(audio_path, x):\n",
    "    \"\"\"\n",
    "        audio_path: (Path) path to audio\n",
    "        x: (int) length of audio to be samples in seconds\n",
    "    \"\"\"\n",
    "    f = wave.open(os.path.abspath(audio_path), 'rb')\n",
    "    frames = f.readframes(f.getnframes())\n",
    "    sample_rate = f.getframerate()\n",
    "    sample_width = f.getsampwidth()\n",
    "    params = f.getparams()\n",
    "    L =  x * sample_rate * sample_width\n",
    "    start = random.randint(0, (len(frames)-L)//sample_width) * sample_width\n",
    "    sampled_frames = frames[start:start + L]\n",
    "    return start/sample_rate/sample_width, sampled_frames, params"
   ]
  },
  {
   "cell_type": "code",
   "execution_count": null,
   "id": "7d418b11",
   "metadata": {},
   "outputs": [],
   "source": [
    "def sample_percentage(audio_path, percentage, partial_type):\n",
    "    f = wave.open(os.path.abspath(audio_path.with_suffix('.wav')), 'rb')\n",
    "    frames = f.readframes(f.getnframes())\n",
    "    sample_rate = f.getframerate()\n",
    "    sample_width = f.getsampwidth()\n",
    "    params = f.getparams()\n",
    "    \n",
    "    if partial_type == 'Start':\n",
    "        L = int(len(frames) * percentage)\n",
    "        if L % 2 != 0:\n",
    "            L += 1\n",
    "        sampled_frames = frames[:L]\n",
    "    elif partial_type == 'End':\n",
    "        L = int(len(frames) * (1 - percentage))\n",
    "        if L % 2 != 0:\n",
    "            L += 1\n",
    "        sampled_frames = frames[L:]\n",
    "    return L/sample_rate/sample_width, sampled_frames, params"
   ]
  },
  {
   "cell_type": "code",
   "execution_count": null,
   "id": "75f57876",
   "metadata": {},
   "outputs": [],
   "source": [
    "def compute_and_save_chroma(sampled_frames, audio_params, file_path):\n",
    "    obj = wave.open(os.path.abspath((AUDIO_TEMP/file_path).with_suffix('.wav')), 'wb')\n",
    "    obj.setparams(audio_params)\n",
    "    obj.writeframes(sampled_frames)\n",
    "    obj.close()\n",
    "    \n",
    "    y, sr = lb.core.load((AUDIO_TEMP/file_path).with_suffix('.wav'))\n",
    "    feats = lb.feature.chroma_cqt(y=y, sr=sr, hop_length=512)\n",
    "    np.save(FEATURES_DIR/file_path, feats)"
   ]
  },
  {
   "cell_type": "code",
   "execution_count": null,
   "id": "7718a7e7",
   "metadata": {},
   "outputs": [],
   "source": [
    "def get_preamble(file_path):\n",
    "    with open(file_path, 'r') as f:\n",
    "        preamble = [f.readline(), \n",
    "                    f.readline(),\n",
    "                    f.readline()]\n",
    "    return preamble"
   ]
  },
  {
   "cell_type": "code",
   "execution_count": null,
   "id": "933cc07a",
   "metadata": {},
   "outputs": [],
   "source": [
    "def create_annot(orig_annot_file, benchmark_annot_file, start=None, end=None):\n",
    "    preamble = get_preamble(orig_annot_file)\n",
    "    \n",
    "    df = pd.read_csv(orig_annot_file, header=None, sep='\\s+', skiprows=3)\n",
    "    \n",
    "    if start == 0 or start < df[0][0]:\n",
    "        # partialStart or start sec < first annot sec\n",
    "        idx=bisect(df[0], end)\n",
    "        df.at[idx-1,1] = end\n",
    "        df[0] -= start\n",
    "        df[1] -= start\n",
    "        df = df[:idx]\n",
    "    elif end is None:\n",
    "        # partialEnd\n",
    "        idx = bisect(df[0],start)\n",
    "        if start in df[0]:\n",
    "            idx = idx - 1\n",
    "        df[0] -= start\n",
    "        df[1] -= start\n",
    "        df = df[idx:len(df[1])-1]\n",
    "    else:\n",
    "        # start sec falls on beat\n",
    "        idx_start = bisect(df[0], start)\n",
    "        if start in df[0]:\n",
    "            idx_start = idx_start - 1\n",
    "        idx_end = bisect(df[0], end)\n",
    "        df.at[idx_end-1,1] = end\n",
    "        df[0] -= start\n",
    "        df[1] -= start\n",
    "        df = df[idx_start:idx_end]\n",
    "    \n",
    "    annots = df.to_csv(None, header=False, index=False, sep='\\t')\n",
    "    \n",
    "    with open(benchmark_annot_file, 'w') as f:\n",
    "        f.writelines(preamble)\n",
    "        f.writelines(annots)"
   ]
  },
  {
   "cell_type": "code",
   "execution_count": null,
   "id": "fd890ad3",
   "metadata": {},
   "outputs": [],
   "source": [
    "random.seed(42)"
   ]
  },
  {
   "cell_type": "code",
   "execution_count": null,
   "id": "1d8c6626",
   "metadata": {},
   "outputs": [],
   "source": [
    "construct_subseq(20)"
   ]
  },
  {
   "cell_type": "code",
   "execution_count": null,
   "id": "d7b8a90f",
   "metadata": {},
   "outputs": [],
   "source": [
    "construct_subseq(30)"
   ]
  },
  {
   "cell_type": "code",
   "execution_count": null,
   "id": "34f18d6d",
   "metadata": {},
   "outputs": [],
   "source": [
    "construct_subseq(40)"
   ]
  },
  {
   "cell_type": "code",
   "execution_count": null,
   "id": "a4ab7610",
   "metadata": {},
   "outputs": [],
   "source": [
    "construct_partial_start()"
   ]
  },
  {
   "cell_type": "code",
   "execution_count": null,
   "id": "6d3adca9",
   "metadata": {
    "scrolled": true
   },
   "outputs": [],
   "source": [
    "construct_partial_end()"
   ]
  },
  {
   "cell_type": "markdown",
   "id": "0f14d970",
   "metadata": {},
   "source": [
    "## Make Pre and Post Benchmarks"
   ]
  },
  {
   "cell_type": "code",
   "execution_count": null,
   "id": "7e212d39",
   "metadata": {},
   "outputs": [],
   "source": [
    "def compute_chroma_single(infile, outfile, sr = 22050, hop_length=512):\n",
    "    y, sr = lb.core.load(infile, sr = sr)\n",
    "    F = lb.feature.chroma_cqt(y=y, sr=sr, hop_length=hop_length)\n",
    "    np.save(outfile, F)\n",
    "    return"
   ]
  },
  {
   "cell_type": "code",
   "execution_count": null,
   "id": "750717c2",
   "metadata": {},
   "outputs": [],
   "source": [
    "def construct_pre_post(seconds):\n",
    "    for folder in AUDIO_DIR.glob('Chopin*'):\n",
    "        folder_name = os.path.abspath(folder).split('/')[-1]\n",
    "        \n",
    "        # only generate given dataset\n",
    "        if folder_name not in FOLDERS:\n",
    "            continue\n",
    "            \n",
    "        (BENCHMARKS_DIR/f'pre_{seconds}'/'annotations_beat'/folder_name).mkdir(parents=True, exist_ok=True)\n",
    "        (BENCHMARKS_DIR/f'post_{seconds}'/'annotations_beat'/folder_name).mkdir(parents=True, exist_ok=True)\n",
    "        \n",
    "        \n",
    "        (AUDIO_TEMP/f'pre_{seconds}'/folder_name).mkdir(parents=True, exist_ok=True)\n",
    "        (AUDIO_TEMP/f'post_{seconds}'/folder_name).mkdir(parents=True, exist_ok=True)\n",
    "        \n",
    "        (FEATURES_DIR/f'pre_{seconds}'/folder_name).mkdir(parents=True, exist_ok=True)\n",
    "        (FEATURES_DIR/f'post_{seconds}'/folder_name).mkdir(parents=True, exist_ok=True)\n",
    "        \n",
    "        for file in tqdm(folder.glob('*')):\n",
    "            file_name = os.path.abspath(file).split('/')[-1].split('.')[0]\n",
    "            \n",
    "            if file_name in EXCLUDE:\n",
    "                continue\n",
    "            \n",
    "            final_pre = AudioSegment.silent(duration=seconds*1000) + AudioSegment.from_wav(file)\n",
    "            final_post = AudioSegment.from_wav(file) + AudioSegment.silent(duration=seconds*1000)\n",
    "            \n",
    "            pre_file = os.path.abspath((AUDIO_TEMP/f'pre_{seconds}'/folder_name/file_name).with_suffix('.wav'))\n",
    "            post_file = os.path.abspath((AUDIO_TEMP/f'post_{seconds}'/folder_name/file_name).with_suffix('.wav'))\n",
    "            \n",
    "            final_pre.export(pre_file, format=\"wav\")\n",
    "            final_post.export(post_file, format=\"wav\")\n",
    "        \n",
    "            # compute chromas\n",
    "            compute_chroma_single(pre_file, FEATURES_DIR/f'pre_{seconds}'/folder_name/file_name)\n",
    "            compute_chroma_single(post_file, FEATURES_DIR/f'post_{seconds}'/folder_name/file_name)\n",
    "            \n",
    "            # annots\n",
    "            create_annot((ANNOT_DIR/folder_name/file_name).with_suffix('.beat'),\n",
    "                         (BENCHMARKS_DIR/f'pre_{seconds}'/'annotations_beat'/folder_name/file_name).with_suffix('.beat'),\n",
    "                        seconds)\n",
    "            create_annot((ANNOT_DIR/folder_name/file_name).with_suffix('.beat'),\n",
    "                         (BENCHMARKS_DIR/f'post_{seconds}'/'annotations_beat'/folder_name/file_name).with_suffix('.beat'))\n",
    "            "
   ]
  },
  {
   "cell_type": "code",
   "execution_count": null,
   "id": "a5900054",
   "metadata": {},
   "outputs": [],
   "source": [
    "def create_annot(orig_annot_file, benchmark_annot_file, pre_seconds=None):\n",
    "    \n",
    "    preamble = get_preamble(orig_annot_file)\n",
    "    df = pd.read_csv(orig_annot_file, header=None, sep='\\s+', skiprows=3)\n",
    "    \n",
    "    if pre_seconds is None:\n",
    "        annots = df.to_csv(None, header=False, index=False, sep='\\t')\n",
    "    else:\n",
    "        df[0] += pre_seconds\n",
    "        df[1] += pre_seconds\n",
    "\n",
    "        annots = df.to_csv(None, header=False, index=False, sep='\\t')\n",
    "    \n",
    "    with open(benchmark_annot_file, 'w') as f:\n",
    "        f.writelines(preamble)\n",
    "        f.writelines(annots)\n",
    "    "
   ]
  },
  {
   "cell_type": "code",
   "execution_count": null,
   "id": "59f0cbce",
   "metadata": {},
   "outputs": [],
   "source": [
    "construct_pre_post(5)"
   ]
  },
  {
   "cell_type": "code",
   "execution_count": null,
   "id": "f533453b",
   "metadata": {},
   "outputs": [],
   "source": [
    "construct_pre_post(10)"
   ]
  },
  {
   "cell_type": "code",
   "execution_count": null,
   "id": "64f601af",
   "metadata": {},
   "outputs": [],
   "source": [
    "construct_pre_post(20)"
   ]
  },
  {
   "cell_type": "markdown",
   "id": "d22899e0",
   "metadata": {},
   "source": [
    "## Compute and Save Chroma Features for Matching Benchmark"
   ]
  },
  {
   "cell_type": "code",
   "execution_count": null,
   "id": "8c5ea9f3",
   "metadata": {},
   "outputs": [],
   "source": [
    "def compute_chroma_batch(filelist, outdir, n_cores):\n",
    "    \n",
    "    # prep inputs for parallelization\n",
    "    inputs = []\n",
    "    with open(filelist, 'r') as f:\n",
    "        for line in f:\n",
    "            relpath = line.strip()\n",
    "            reldir, fileid = os.path.split(relpath)\n",
    "            featdir = outdir / reldir\n",
    "            featdir.mkdir(parents=True, exist_ok=True)\n",
    "            featfile = (featdir / fileid).with_suffix('.npy')\n",
    "            audiofile = (AUDIO_DIR / relpath).with_suffix('.wav')\n",
    "            if os.path.exists(featfile):\n",
    "                print(f\"Skipping {featfile}\")\n",
    "            else:\n",
    "                inputs.append((audiofile, featfile))\n",
    "\n",
    "    # process files in parallel\n",
    "    pool = multiprocessing.Pool(processes = n_cores)\n",
    "    pool.starmap(compute_chroma_single, inputs)\n",
    "    \n",
    "    return"
   ]
  },
  {
   "cell_type": "code",
   "execution_count": null,
   "id": "0dc3ce21",
   "metadata": {},
   "outputs": [],
   "source": [
    "compute_chroma_batch(f'cfg_files/{DATASET}.files.list', FEATURES_DIR / 'matching', 24)"
   ]
  },
  {
   "cell_type": "code",
   "execution_count": null,
   "id": "5ab3bf41",
   "metadata": {},
   "outputs": [],
   "source": [
    "! mkdir -p ../ttmp/Chopin_Mazurkas_features/original"
   ]
  },
  {
   "cell_type": "code",
   "execution_count": null,
   "id": "0fe2dafa",
   "metadata": {},
   "outputs": [],
   "source": [
    "! cp -r ../ttmp/Chopin_Mazurkas_features/matching/* ../ttmp/Chopin_Mazurkas_features/original"
   ]
  },
  {
   "cell_type": "code",
   "execution_count": null,
   "id": "7a22a2f9",
   "metadata": {},
   "outputs": [],
   "source": []
  }
 ],
 "metadata": {
  "kernelspec": {
   "display_name": "Python 3 (ipykernel)",
   "language": "python",
   "name": "python3"
  },
  "language_info": {
   "codemirror_mode": {
    "name": "ipython",
    "version": 3
   },
   "file_extension": ".py",
   "mimetype": "text/x-python",
   "name": "python",
   "nbconvert_exporter": "python",
   "pygments_lexer": "ipython3",
   "version": "3.7.16"
  }
 },
 "nbformat": 4,
 "nbformat_minor": 5
}
