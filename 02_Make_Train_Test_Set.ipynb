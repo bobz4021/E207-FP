{
 "cells": [
  {
   "cell_type": "code",
   "execution_count": 1,
   "id": "6a972cf8",
   "metadata": {},
   "outputs": [],
   "source": [
    "import os\n",
    "import glob\n",
    "from pathlib import Path\n",
    "import random"
   ]
  },
  {
   "cell_type": "markdown",
   "id": "c5a72f0f",
   "metadata": {},
   "source": [
    "### Make Train Files List"
   ]
  },
  {
   "cell_type": "code",
   "execution_count": 2,
   "id": "3dd5d0a8",
   "metadata": {},
   "outputs": [],
   "source": [
    "DATA_PATH = Path('../ttmp/Chopin_Mazurkas_Modified/annotations_beat/')\n",
    "Path('cfg_files').mkdir(parents=True, exist_ok=True)\n",
    "train_files_path = Path('cfg_files/train.files.list')"
   ]
  },
  {
   "cell_type": "code",
   "execution_count": 3,
   "id": "d07dfa6f",
   "metadata": {},
   "outputs": [],
   "source": [
    "with open(train_files_path, 'w') as f:\n",
    "    for folderpath in DATA_PATH.glob('*'):\n",
    "        foldername = os.path.basename(folderpath).split('/')[-1]\n",
    "        if foldername == 'Chopin_Op017No4' or foldername == 'Chopin_Op063No3':\n",
    "            for filepath in folderpath.glob('*'):\n",
    "                filename = os.path.basename(filepath).split('/')[-1][:-5]\n",
    "                f.write(f'{foldername}/{filename}\\n')"
   ]
  },
  {
   "cell_type": "code",
   "execution_count": 4,
   "id": "9e21c0e3",
   "metadata": {},
   "outputs": [],
   "source": [
    "def generate_query_list(filelist, outfile):\n",
    "    \n",
    "    # group files by piece\n",
    "    d = {}\n",
    "    with open(filelist, 'r') as f:\n",
    "        for line in f:\n",
    "            parts = line.strip().split('/')\n",
    "            assert len(parts) == 2\n",
    "            piece, fileid = parts\n",
    "            if piece not in d:\n",
    "                d[piece] = []\n",
    "            d[piece].append(fileid)\n",
    "            \n",
    "    # print out all pairings\n",
    "    with open(outfile, 'w') as fout:\n",
    "        for piece in d:\n",
    "            num_recordings = len(d[piece])\n",
    "            for i in range(num_recordings):\n",
    "                fileid1 = d[piece][i]\n",
    "                for j in range(i+1, num_recordings):\n",
    "                    fileid2 = d[piece][j]\n",
    "                    line = f'{piece}/{fileid1} {piece}/{fileid2}\\n'\n",
    "                    fout.write(line)\n",
    "                    \n",
    "    return"
   ]
  },
  {
   "cell_type": "markdown",
   "id": "5d9db161",
   "metadata": {},
   "source": [
    "### Make Train Query Lists"
   ]
  },
  {
   "cell_type": "markdown",
   "id": "0c75651c",
   "metadata": {},
   "source": [
    "**Train-Full**"
   ]
  },
  {
   "cell_type": "code",
   "execution_count": 5,
   "id": "6351c118",
   "metadata": {},
   "outputs": [],
   "source": [
    "full_queries_path = Path('cfg_files/queries.train.full')\n",
    "generate_query_list(train_files_path, full_queries_path)"
   ]
  },
  {
   "cell_type": "markdown",
   "id": "64d8f771",
   "metadata": {},
   "source": [
    "**Train-Small**"
   ]
  },
  {
   "cell_type": "code",
   "execution_count": 6,
   "id": "ed5b9d84",
   "metadata": {},
   "outputs": [],
   "source": [
    "random.seed(42)"
   ]
  },
  {
   "cell_type": "code",
   "execution_count": 7,
   "id": "56718084",
   "metadata": {},
   "outputs": [],
   "source": [
    "small_queries_path = Path('cfg_files/queries.train.small')"
   ]
  },
  {
   "cell_type": "code",
   "execution_count": 8,
   "id": "b93d1cd8",
   "metadata": {},
   "outputs": [],
   "source": [
    "with open(full_queries_path, 'r') as f:\n",
    "    full_queries_list = [line[:-1] for line in f]\n",
    "small_queries_list = random.sample(full_queries_list, k=200)"
   ]
  },
  {
   "cell_type": "code",
   "execution_count": 9,
   "id": "a5bcaf36",
   "metadata": {},
   "outputs": [],
   "source": [
    "with open(small_queries_path, 'w') as f:\n",
    "    for file in small_queries_list:\n",
    "        f.write(file + '\\n')"
   ]
  },
  {
   "cell_type": "markdown",
   "id": "8f00ee63",
   "metadata": {},
   "source": [
    "**Train-Toy**"
   ]
  },
  {
   "cell_type": "code",
   "execution_count": 10,
   "id": "25c9d267",
   "metadata": {},
   "outputs": [],
   "source": [
    "toy_queries_path = Path('cfg_files/queries.train.toy')"
   ]
  },
  {
   "cell_type": "code",
   "execution_count": 11,
   "id": "48b7833b",
   "metadata": {},
   "outputs": [],
   "source": [
    "with open(full_queries_path, 'r') as f:\n",
    "    full_queries_list = [line[:-1] for line in f]\n",
    "toy_queries_list = random.sample(full_queries_list, k=5)"
   ]
  },
  {
   "cell_type": "code",
   "execution_count": 12,
   "id": "cbe387f3",
   "metadata": {},
   "outputs": [],
   "source": [
    "with open(toy_queries_path, 'w') as f:\n",
    "    for file in toy_queries_list:\n",
    "        f.write(file + '\\n')"
   ]
  },
  {
   "cell_type": "markdown",
   "id": "99fa5c56",
   "metadata": {},
   "source": [
    "### Make Test Files List"
   ]
  },
  {
   "cell_type": "code",
   "execution_count": 13,
   "id": "b5c6863e",
   "metadata": {},
   "outputs": [],
   "source": [
    "DATA_PATH = Path('../ttmp/Chopin_Mazurkas_Modified/annotations_beat/')\n",
    "test_files_path = Path('cfg_files/test.files.list')"
   ]
  },
  {
   "cell_type": "code",
   "execution_count": 14,
   "id": "da15dca9",
   "metadata": {},
   "outputs": [],
   "source": [
    "with open(test_files_path, 'w') as f:\n",
    "    for folder in DATA_PATH.glob('*'):\n",
    "        foldername = os.path.basename(folder)\n",
    "        if foldername != 'Chopin_Op017No4' and foldername != 'Chopin_Op063No3':\n",
    "            for file in folder.glob('*'):\n",
    "                filename = os.path.basename(file)[:-5]\n",
    "                if 'Chopin_Op068No3_Koczalski-1948_pid9140' not in filename:\n",
    "                    f.write(f'{foldername}/{filename}\\n')                  "
   ]
  },
  {
   "cell_type": "markdown",
   "id": "ddb4269e",
   "metadata": {},
   "source": [
    "**Test-Full**"
   ]
  },
  {
   "cell_type": "code",
   "execution_count": 15,
   "id": "81931f01",
   "metadata": {},
   "outputs": [],
   "source": [
    "full_queries_path = Path('cfg_files/queries.test.full')\n",
    "generate_query_list(test_files_path, full_queries_path)"
   ]
  },
  {
   "cell_type": "code",
   "execution_count": null,
   "id": "5fa94b3f",
   "metadata": {},
   "outputs": [],
   "source": []
  }
 ],
 "metadata": {
  "kernelspec": {
   "display_name": "Python 3 (ipykernel)",
   "language": "python",
   "name": "python3"
  },
  "language_info": {
   "codemirror_mode": {
    "name": "ipython",
    "version": 3
   },
   "file_extension": ".py",
   "mimetype": "text/x-python",
   "name": "python",
   "nbconvert_exporter": "python",
   "pygments_lexer": "ipython3",
   "version": "3.7.13"
  }
 },
 "nbformat": 4,
 "nbformat_minor": 5
}
